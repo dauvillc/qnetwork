{
 "cells": [
  {
   "cell_type": "markdown",
   "metadata": {},
   "source": [
    "# Testing the QNetwork on a simple game"
   ]
  },
  {
   "cell_type": "markdown",
   "metadata": {},
   "source": [
    "The QNetwork module implements a DQN Agent that learns which action is better in a specific state. The QNetwork is able to memorize experiences and explorations, and train on them."
   ]
  },
  {
   "cell_type": "markdown",
   "metadata": {},
   "source": [
    "## The game\n",
    "The test contained in test_qnetwork_movement.py tests the ability of the QNetwork to learn to reach the position $(0.5, 0.5)$ while spawning at random coordinates in $[0, 1]$."
   ]
  },
  {
   "cell_type": "markdown",
   "metadata": {},
   "source": [
    "## Training the agent"
   ]
  },
  {
   "cell_type": "markdown",
   "metadata": {},
   "source": [
    "### Imports"
   ]
  },
  {
   "cell_type": "code",
   "execution_count": 1,
   "metadata": {},
   "outputs": [],
   "source": [
    "import torch\n",
    "import torch.nn as nn\n",
    "import torch.nn.functional as func\n",
    "from test_qnetwork_movement import test, next_state\n",
    "from QNetwork import QNetwork"
   ]
  },
  {
   "cell_type": "markdown",
   "metadata": {},
   "source": [
    "### Parameters\n",
    "The environment is defined by the states and the possible actions.\n",
    "A state here is defined by two coordinates $(x, y)$, and will be encoded in a tensor of size (2, ). Therefore, a batch of states can be encoded as a tensor of shape (Batch_size, 2).\n",
    "  \n",
    "There are 5 possible actions in any state: 0 (Go up), 1 (Go right), 2 (Go down), 3 (Go left), 4 (Stay at the same position).\n",
    "\n",
    "The test has two parameters: The number of movements that the agent is allowed to do, and the length of each step"
   ]
  },
  {
   "cell_type": "code",
   "execution_count": 2,
   "metadata": {},
   "outputs": [],
   "source": [
    "state_dim, nb_actions = 2, 5\n",
    "movements = 10\n",
    "step = 0.01"
   ]
  },
  {
   "cell_type": "markdown",
   "metadata": {},
   "source": [
    "### Creating the agent\n",
    "Let's first create the QNetwork that will be tested\n",
    "\n",
    "#### Create the torch neural network\n",
    "A QNetwork lets us create our own model for training to be able to adjust hyperparameters:"
   ]
  },
  {
   "cell_type": "code",
   "execution_count": 3,
   "metadata": {},
   "outputs": [],
   "source": [
    "class Net(nn.Module):\n",
    "    def __init__(self, state_dim, nb_actions):\n",
    "        super(Net, self).__init__()\n",
    "        self.fc1 = nn.Linear(state_dim, 32)\n",
    "        self.fc2 = nn.Linear(32, 64)\n",
    "        self.fc4 = nn.Linear(64, nb_actions)\n",
    "    \n",
    "    def forward(self, batch):\n",
    "        batch = func.relu(self.fc1(batch))\n",
    "        batch = func.relu(self.fc2(batch))\n",
    "        batch = self.fc4(batch)\n",
    "        return batch"
   ]
  },
  {
   "cell_type": "code",
   "execution_count": 4,
   "metadata": {},
   "outputs": [],
   "source": [
    "net = Net(state_dim, nb_actions)"
   ]
  },
  {
   "cell_type": "markdown",
   "metadata": {},
   "source": [
    "#### Create the QNetwork object"
   ]
  },
  {
   "cell_type": "code",
   "execution_count": 8,
   "metadata": {},
   "outputs": [],
   "source": [
    "agent = QNetwork(net, state_dim, movements, lr=0.1)"
   ]
  },
  {
   "cell_type": "markdown",
   "metadata": {},
   "source": [
    "### Checking that the setup works\n",
    "Let's run the test on small values to make sure everything works"
   ]
  },
  {
   "cell_type": "code",
   "execution_count": 9,
   "metadata": {
    "scrolled": true
   },
   "outputs": [
    {
     "name": "stdout",
     "output_type": "stream",
     "text": [
      "Episodes completed:  1  /  2 ( 50.0 %)\r",
      "Episodes completed:  2  /  2 ( 100.0 %)\r"
     ]
    },
    {
     "data": {
      "image/png": "[encoded data removed]",
      "text/plain": [
       "<Figure size 432x288 with 2 Axes>"
      ]
     },
     "metadata": {
      "needs_background": "light"
     },
     "output_type": "display_data"
    },
    {
     "data": {
      "text/plain": [
       "[tensor(nan, grad_fn=<MseLossBackward>),\n",
       " tensor(nan, grad_fn=<MseLossBackward>)]"
      ]
     },
     "execution_count": 9,
     "metadata": {},
     "output_type": "execute_result"
    }
   ],
   "source": [
    "test(agent, 100, 2)"
   ]
  }
 ],
 "metadata": {
  "kernelspec": {
   "display_name": "Python 3",
   "language": "python",
   "name": "python3"
  },
  "language_info": {
   "codemirror_mode": {
    "name": "ipython",
    "version": 3
   },
   "file_extension": ".py",
   "mimetype": "text/x-python",
   "name": "python",
   "nbconvert_exporter": "python",
   "pygments_lexer": "ipython3",
   "version": "3.8.5"
  }
 },
 "nbformat": 4,
 "nbformat_minor": 4
}
